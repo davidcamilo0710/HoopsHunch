{
 "cells": [
  {
   "attachments": {},
   "cell_type": "markdown",
   "id": "7aa6bab4",
   "metadata": {},
   "source": [
    "# **Extracting, transforming and loading data**\n"
   ]
  },
  {
   "cell_type": "code",
   "execution_count": 1,
   "id": "14660bf1",
   "metadata": {},
   "outputs": [],
   "source": [
    "import numpy as np\n",
    "import os\n",
    "import sys\n",
    "\n",
    "module_path = os.path.abspath(os.path.join(\"..\"))\n",
    "if module_path not in sys.path:\n",
    "    sys.path.append(module_path)\n",
    "\n",
    "from hoopshunch import database_builder\n",
    "from hoopshunch.database import Database\n",
    "from hoopshunch import templates\n",
    "import warnings\n",
    "\n",
    "warnings.filterwarnings(\"ignore\")"
   ]
  },
  {
   "attachments": {},
   "cell_type": "markdown",
   "id": "01ef5b1a",
   "metadata": {},
   "source": [
    "### **Extracting data**\n"
   ]
  },
  {
   "cell_type": "code",
   "execution_count": 2,
   "id": "79492e06",
   "metadata": {},
   "outputs": [],
   "source": [
    "# database_builder.build_database(\"../data/database/nba.db\", 2012, 2012, \"replace\", 1)\n",
    "# database_builder.build_database(\"nba.db\", 2022, 2022, \"append\", 3)"
   ]
  },
  {
   "cell_type": "code",
   "execution_count": 3,
   "id": "0b1f8a25",
   "metadata": {},
   "outputs": [],
   "source": [
    "database = Database(\"../data/database/nba.db\")\n",
    "games = database.create_model_stats()"
   ]
  },
  {
   "cell_type": "code",
   "execution_count": 4,
   "id": "01aa457c",
   "metadata": {},
   "outputs": [
    {
     "data": {
      "text/html": [
       "<div>\n",
       "<style scoped>\n",
       "    .dataframe tbody tr th:only-of-type {\n",
       "        vertical-align: middle;\n",
       "    }\n",
       "\n",
       "    .dataframe tbody tr th {\n",
       "        vertical-align: top;\n",
       "    }\n",
       "\n",
       "    .dataframe thead th {\n",
       "        text-align: right;\n",
       "    }\n",
       "</style>\n",
       "<table border=\"1\" class=\"dataframe\">\n",
       "  <thead>\n",
       "    <tr style=\"text-align: right;\">\n",
       "      <th></th>\n",
       "      <th>SEASON</th>\n",
       "      <th>HOME_TEAM_ID</th>\n",
       "      <th>AWAY_TEAM_ID</th>\n",
       "      <th>GAME_DATE</th>\n",
       "      <th>MATCHUP</th>\n",
       "      <th>HOME_SPREAD</th>\n",
       "      <th>AWAY_SPREAD</th>\n",
       "      <th>OVER_UNDER</th>\n",
       "      <th>HOME_MONEYLINE</th>\n",
       "      <th>AWAY_MONEYLINE</th>\n",
       "      <th>...</th>\n",
       "      <th>AWAY_P5_STL</th>\n",
       "      <th>AWAY_P5_TOV</th>\n",
       "      <th>AWAY_P5_FGA</th>\n",
       "      <th>AWAY_P5_FTA</th>\n",
       "      <th>AWAY_P5_FG3A</th>\n",
       "      <th>AWAY_P5_PF</th>\n",
       "      <th>HOME_PTS</th>\n",
       "      <th>AWAY_PTS</th>\n",
       "      <th>GAME_ID</th>\n",
       "      <th>HOME_WL</th>\n",
       "    </tr>\n",
       "  </thead>\n",
       "  <tbody>\n",
       "    <tr>\n",
       "      <th>0</th>\n",
       "      <td>2012</td>\n",
       "      <td>1610612739</td>\n",
       "      <td>1610612764</td>\n",
       "      <td>2012-10-30</td>\n",
       "      <td>CLE vs. WAS</td>\n",
       "      <td>-5.5</td>\n",
       "      <td>5.5</td>\n",
       "      <td>191.0</td>\n",
       "      <td>-250.0</td>\n",
       "      <td>210.0</td>\n",
       "      <td>...</td>\n",
       "      <td>0</td>\n",
       "      <td>1</td>\n",
       "      <td>13</td>\n",
       "      <td>1</td>\n",
       "      <td>9</td>\n",
       "      <td>1</td>\n",
       "      <td>94</td>\n",
       "      <td>84</td>\n",
       "      <td>0021200001</td>\n",
       "      <td>W</td>\n",
       "    </tr>\n",
       "    <tr>\n",
       "      <th>1</th>\n",
       "      <td>2012</td>\n",
       "      <td>1610612747</td>\n",
       "      <td>1610612742</td>\n",
       "      <td>2012-10-30</td>\n",
       "      <td>LAL vs. DAL</td>\n",
       "      <td>-8.5</td>\n",
       "      <td>8.5</td>\n",
       "      <td>187.0</td>\n",
       "      <td>-500.0</td>\n",
       "      <td>400.0</td>\n",
       "      <td>...</td>\n",
       "      <td>1</td>\n",
       "      <td>0</td>\n",
       "      <td>10</td>\n",
       "      <td>2</td>\n",
       "      <td>0</td>\n",
       "      <td>4</td>\n",
       "      <td>91</td>\n",
       "      <td>99</td>\n",
       "      <td>0021200003</td>\n",
       "      <td>L</td>\n",
       "    </tr>\n",
       "    <tr>\n",
       "      <th>2</th>\n",
       "      <td>2012</td>\n",
       "      <td>1610612748</td>\n",
       "      <td>1610612738</td>\n",
       "      <td>2012-10-30</td>\n",
       "      <td>MIA vs. BOS</td>\n",
       "      <td>-8.0</td>\n",
       "      <td>8.0</td>\n",
       "      <td>184.0</td>\n",
       "      <td>-280.0</td>\n",
       "      <td>240.0</td>\n",
       "      <td>...</td>\n",
       "      <td>1</td>\n",
       "      <td>3</td>\n",
       "      <td>7</td>\n",
       "      <td>4</td>\n",
       "      <td>3</td>\n",
       "      <td>3</td>\n",
       "      <td>120</td>\n",
       "      <td>107</td>\n",
       "      <td>0021200002</td>\n",
       "      <td>W</td>\n",
       "    </tr>\n",
       "    <tr>\n",
       "      <th>3</th>\n",
       "      <td>2012</td>\n",
       "      <td>1610612756</td>\n",
       "      <td>1610612744</td>\n",
       "      <td>2012-10-31</td>\n",
       "      <td>PHX vs. GSW</td>\n",
       "      <td>-3.5</td>\n",
       "      <td>3.5</td>\n",
       "      <td>201.5</td>\n",
       "      <td>-140.0</td>\n",
       "      <td>120.0</td>\n",
       "      <td>...</td>\n",
       "      <td>2</td>\n",
       "      <td>4</td>\n",
       "      <td>14</td>\n",
       "      <td>3</td>\n",
       "      <td>6</td>\n",
       "      <td>3</td>\n",
       "      <td>85</td>\n",
       "      <td>87</td>\n",
       "      <td>0021200010</td>\n",
       "      <td>L</td>\n",
       "    </tr>\n",
       "    <tr>\n",
       "      <th>4</th>\n",
       "      <td>2012</td>\n",
       "      <td>1610612755</td>\n",
       "      <td>1610612743</td>\n",
       "      <td>2012-10-31</td>\n",
       "      <td>PHI vs. DEN</td>\n",
       "      <td>2.0</td>\n",
       "      <td>-2.0</td>\n",
       "      <td>201.0</td>\n",
       "      <td>110.0</td>\n",
       "      <td>-130.0</td>\n",
       "      <td>...</td>\n",
       "      <td>1</td>\n",
       "      <td>1</td>\n",
       "      <td>3</td>\n",
       "      <td>4</td>\n",
       "      <td>0</td>\n",
       "      <td>3</td>\n",
       "      <td>84</td>\n",
       "      <td>75</td>\n",
       "      <td>0021200005</td>\n",
       "      <td>W</td>\n",
       "    </tr>\n",
       "  </tbody>\n",
       "</table>\n",
       "<p>5 rows × 233 columns</p>\n",
       "</div>"
      ],
      "text/plain": [
       "   SEASON  HOME_TEAM_ID  AWAY_TEAM_ID   GAME_DATE      MATCHUP  HOME_SPREAD  \\\n",
       "0    2012    1610612739    1610612764  2012-10-30  CLE vs. WAS         -5.5   \n",
       "1    2012    1610612747    1610612742  2012-10-30  LAL vs. DAL         -8.5   \n",
       "2    2012    1610612748    1610612738  2012-10-30  MIA vs. BOS         -8.0   \n",
       "3    2012    1610612756    1610612744  2012-10-31  PHX vs. GSW         -3.5   \n",
       "4    2012    1610612755    1610612743  2012-10-31  PHI vs. DEN          2.0   \n",
       "\n",
       "   AWAY_SPREAD  OVER_UNDER  HOME_MONEYLINE  AWAY_MONEYLINE  ... AWAY_P5_STL  \\\n",
       "0          5.5       191.0          -250.0           210.0  ...           0   \n",
       "1          8.5       187.0          -500.0           400.0  ...           1   \n",
       "2          8.0       184.0          -280.0           240.0  ...           1   \n",
       "3          3.5       201.5          -140.0           120.0  ...           2   \n",
       "4         -2.0       201.0           110.0          -130.0  ...           1   \n",
       "\n",
       "  AWAY_P5_TOV AWAY_P5_FGA AWAY_P5_FTA AWAY_P5_FG3A AWAY_P5_PF HOME_PTS  \\\n",
       "0           1          13           1            9          1       94   \n",
       "1           0          10           2            0          4       91   \n",
       "2           3           7           4            3          3      120   \n",
       "3           4          14           3            6          3       85   \n",
       "4           1           3           4            0          3       84   \n",
       "\n",
       "  AWAY_PTS     GAME_ID  HOME_WL  \n",
       "0       84  0021200001        W  \n",
       "1       99  0021200003        L  \n",
       "2      107  0021200002        W  \n",
       "3       87  0021200010        L  \n",
       "4       75  0021200005        W  \n",
       "\n",
       "[5 rows x 233 columns]"
      ]
     },
     "execution_count": 4,
     "metadata": {},
     "output_type": "execute_result"
    }
   ],
   "source": [
    "games.head()"
   ]
  },
  {
   "attachments": {},
   "cell_type": "markdown",
   "id": "8abcbd87",
   "metadata": {},
   "source": [
    "### **Transforming data**\n"
   ]
  },
  {
   "attachments": {},
   "cell_type": "markdown",
   "id": "4e243066",
   "metadata": {},
   "source": [
    "- Null Values\n"
   ]
  },
  {
   "cell_type": "code",
   "execution_count": 5,
   "id": "93c74792",
   "metadata": {},
   "outputs": [
    {
     "name": "stdout",
     "output_type": "stream",
     "text": [
      "Row SEASON_HOME_GP have 200 null values\n",
      "Row SEASON_HOME_W have 200 null values\n",
      "Row SEASON_HOME_L have 200 null values\n",
      "Row SEASON_HOME_W_PCT have 200 null values\n",
      "Row SEASON_HOME_PTS have 200 null values\n",
      "Row SEASON_HOME_W_RANK have 200 null values\n",
      "Row SEASON_HOME_L_RANK have 200 null values\n",
      "Row SEASON_HOME_W_PCT_RANK have 200 null values\n",
      "Row SEASON_HOME_PTS_RANK have 200 null values\n",
      "Row SEASON_AWAY_GP have 200 null values\n",
      "Row SEASON_AWAY_W have 200 null values\n",
      "Row SEASON_AWAY_L have 200 null values\n",
      "Row SEASON_AWAY_W_PCT have 200 null values\n",
      "Row SEASON_AWAY_PTS have 200 null values\n",
      "Row SEASON_AWAY_W_RANK have 200 null values\n",
      "Row SEASON_AWAY_L_RANK have 200 null values\n",
      "Row SEASON_AWAY_W_PCT_RANK have 200 null values\n",
      "Row SEASON_AWAY_PTS_RANK have 200 null values\n",
      "Row LAST5_HOME_GP have 157 null values\n",
      "Row LAST5_HOME_W have 157 null values\n",
      "Row LAST5_HOME_L have 157 null values\n",
      "Row LAST5_HOME_W_PCT have 157 null values\n",
      "Row LAST5_HOME_MIN have 157 null values\n",
      "Row LAST5_HOME_FGM have 157 null values\n",
      "Row LAST5_HOME_FGA have 157 null values\n",
      "Row LAST5_HOME_FG_PCT have 157 null values\n",
      "Row LAST5_HOME_FG3M have 157 null values\n",
      "Row LAST5_HOME_FG3A have 157 null values\n",
      "Row LAST5_HOME_FG3_PCT have 157 null values\n",
      "Row LAST5_HOME_FTM have 157 null values\n",
      "Row LAST5_HOME_FTA have 157 null values\n",
      "Row LAST5_HOME_FT_PCT have 157 null values\n",
      "Row LAST5_HOME_OREB have 157 null values\n",
      "Row LAST5_HOME_DREB have 157 null values\n",
      "Row LAST5_HOME_REB have 157 null values\n",
      "Row LAST5_HOME_AST have 157 null values\n",
      "Row LAST5_HOME_TOV have 157 null values\n",
      "Row LAST5_HOME_STL have 157 null values\n",
      "Row LAST5_HOME_BLK have 157 null values\n",
      "Row LAST5_HOME_BLKA have 157 null values\n",
      "Row LAST5_HOME_PF have 157 null values\n",
      "Row LAST5_HOME_PFD have 157 null values\n",
      "Row LAST5_HOME_PTS have 157 null values\n",
      "Row LAST5_HOME_PLUS_MINUS have 157 null values\n",
      "Row LAST5_AWAY_GP have 143 null values\n",
      "Row LAST5_AWAY_W have 143 null values\n",
      "Row LAST5_AWAY_L have 143 null values\n",
      "Row LAST5_AWAY_W_PCT have 143 null values\n",
      "Row LAST5_AWAY_MIN have 143 null values\n",
      "Row LAST5_AWAY_FGM have 143 null values\n",
      "Row LAST5_AWAY_FGA have 143 null values\n",
      "Row LAST5_AWAY_FG_PCT have 143 null values\n",
      "Row LAST5_AWAY_FG3M have 143 null values\n",
      "Row LAST5_AWAY_FG3A have 143 null values\n",
      "Row LAST5_AWAY_FG3_PCT have 143 null values\n",
      "Row LAST5_AWAY_FTM have 143 null values\n",
      "Row LAST5_AWAY_FTA have 143 null values\n",
      "Row LAST5_AWAY_FT_PCT have 143 null values\n",
      "Row LAST5_AWAY_OREB have 143 null values\n",
      "Row LAST5_AWAY_DREB have 143 null values\n",
      "Row LAST5_AWAY_REB have 143 null values\n",
      "Row LAST5_AWAY_AST have 143 null values\n",
      "Row LAST5_AWAY_TOV have 143 null values\n",
      "Row LAST5_AWAY_STL have 143 null values\n",
      "Row LAST5_AWAY_BLK have 143 null values\n",
      "Row LAST5_AWAY_BLKA have 143 null values\n",
      "Row LAST5_AWAY_PF have 143 null values\n",
      "Row LAST5_AWAY_PFD have 143 null values\n",
      "Row LAST5_AWAY_PTS have 143 null values\n",
      "Row LAST5_AWAY_PLUS_MINUS have 143 null values\n"
     ]
    }
   ],
   "source": [
    "def see_null_values(dataframe):\n",
    "    for row in dataframe.columns:\n",
    "        num_null_values = dataframe[row].isnull().sum()\n",
    "        if num_null_values > 0:\n",
    "            print(f\"Row {row} have {num_null_values} null values\")\n",
    "\n",
    "\n",
    "see_null_values(games)"
   ]
  },
  {
   "cell_type": "code",
   "execution_count": 6,
   "id": "5830aed3",
   "metadata": {},
   "outputs": [],
   "source": [
    "games = games.dropna(\n",
    "    subset=[\"SEASON_HOME_GP\", \"SEASON_AWAY_GP\", \"LAST5_HOME_GP\", \"LAST5_AWAY_GP\"]\n",
    ")\n",
    "see_null_values(games)"
   ]
  },
  {
   "attachments": {},
   "cell_type": "markdown",
   "id": "63bbcc7f",
   "metadata": {},
   "source": [
    "- Duplicates\n"
   ]
  },
  {
   "cell_type": "code",
   "execution_count": 7,
   "id": "44e0a882",
   "metadata": {},
   "outputs": [
    {
     "name": "stdout",
     "output_type": "stream",
     "text": [
      "SEASON          0\n",
      "HOME_TEAM_ID    0\n",
      "AWAY_TEAM_ID    0\n",
      "GAME_DATE       0\n",
      "MATCHUP         0\n",
      "               ..\n",
      "AWAY_P5_PF      0\n",
      "HOME_PTS        0\n",
      "AWAY_PTS        0\n",
      "GAME_ID         0\n",
      "HOME_WL         0\n",
      "Length: 233, dtype: int64\n"
     ]
    }
   ],
   "source": [
    "duplicates = games[games.duplicated()]\n",
    "print(duplicates.count())\n"
   ]
  },
  {
   "attachments": {},
   "cell_type": "markdown",
   "id": "d95f5260",
   "metadata": {},
   "source": [
    "- API data download issues\n"
   ]
  },
  {
   "cell_type": "code",
   "execution_count": 8,
   "id": "a0cab8bb",
   "metadata": {},
   "outputs": [
    {
     "name": "stdout",
     "output_type": "stream",
     "text": [
      "Issues in column INJURED_STAR1_HOME: 0\n",
      "Issues in column INJURED_STAR2_HOME: 5\n",
      "Issues in column INJURED_STAR3_HOME: 2\n",
      "Issues in column INJURED_STAR1_AWAY: 0\n",
      "Issues in column INJURED_STAR2_AWAY: 3\n",
      "Issues in column INJURED_STAR3_AWAY: 4\n"
     ]
    }
   ],
   "source": [
    "def fix_errors(games):\n",
    "    num_occurrences_h1 = (games[\"INJURED_STAR1_HOME\"] == 99).sum()\n",
    "    num_occurrences_h2 = (games[\"INJURED_STAR2_HOME\"] == 99).sum()\n",
    "    num_occurrences_h3 = (games[\"INJURED_STAR3_HOME\"] == 99).sum()\n",
    "    num_occurrences_a1 = (games[\"INJURED_STAR1_AWAY\"] == 99).sum()\n",
    "    num_occurrences_a2 = (games[\"INJURED_STAR2_AWAY\"] == 99).sum()\n",
    "    num_occurrences_a3 = (games[\"INJURED_STAR3_AWAY\"] == 99).sum()\n",
    "\n",
    "    print(f\"Issues in column INJURED_STAR1_HOME: {num_occurrences_h1}\")\n",
    "    print(f\"Issues in column INJURED_STAR2_HOME: {num_occurrences_h2}\")\n",
    "    print(f\"Issues in column INJURED_STAR3_HOME: {num_occurrences_h3}\")\n",
    "    print(f\"Issues in column INJURED_STAR1_AWAY: {num_occurrences_a1}\")\n",
    "    print(f\"Issues in column INJURED_STAR2_AWAY: {num_occurrences_a2}\")\n",
    "    print(f\"Issues in column INJURED_STAR3_AWAY: {num_occurrences_a3}\")\n",
    "\n",
    "    games[\"INJURED_STAR1_HOME\"] = games[\"INJURED_STAR1_HOME\"].replace(99, 0)\n",
    "    games[\"INJURED_STAR2_HOME\"] = games[\"INJURED_STAR2_HOME\"].replace(99, 0)\n",
    "    games[\"INJURED_STAR3_HOME\"] = games[\"INJURED_STAR3_HOME\"].replace(99, 0)\n",
    "    games[\"INJURED_STAR1_AWAY\"] = games[\"INJURED_STAR1_AWAY\"].replace(99, 0)\n",
    "    games[\"INJURED_STAR2_AWAY\"] = games[\"INJURED_STAR2_AWAY\"].replace(99, 0)\n",
    "    games[\"INJURED_STAR3_AWAY\"] = games[\"INJURED_STAR3_AWAY\"].replace(99, 0)\n",
    "\n",
    "\n",
    "fix_errors(games)"
   ]
  },
  {
   "cell_type": "code",
   "execution_count": 9,
   "id": "88bcdbdc",
   "metadata": {},
   "outputs": [
    {
     "name": "stdout",
     "output_type": "stream",
     "text": [
      "Issues in column INJURED_STAR1_HOME: 0\n",
      "Issues in column INJURED_STAR2_HOME: 0\n",
      "Issues in column INJURED_STAR3_HOME: 0\n",
      "Issues in column INJURED_STAR1_AWAY: 0\n",
      "Issues in column INJURED_STAR2_AWAY: 0\n",
      "Issues in column INJURED_STAR3_AWAY: 0\n"
     ]
    }
   ],
   "source": [
    "fix_errors(games)\n"
   ]
  },
  {
   "attachments": {},
   "cell_type": "markdown",
   "id": "2bc10213",
   "metadata": {},
   "source": [
    "#### Improving some columns and creating new ones\n",
    "\n",
    "- Shortening the team id\n"
   ]
  },
  {
   "cell_type": "code",
   "execution_count": 10,
   "id": "6f8a2c53",
   "metadata": {},
   "outputs": [
    {
     "name": "stdout",
     "output_type": "stream",
     "text": [
      "[1610612752 1610612760 1610612747 1610612761 1610612753 1610612746\n",
      " 1610612759 1610612751 1610612755 1610612763 1610612742 1610612748\n",
      " 1610612758 1610612743 1610612741 1610612744 1610612745 1610612738\n",
      " 1610612749 1610612737 1610612740 1610612750 1610612766 1610612762\n",
      " 1610612757 1610612756 1610612764 1610612754 1610612765 1610612739]\n"
     ]
    }
   ],
   "source": [
    "print(games[\"HOME_TEAM_ID\"].unique())"
   ]
  },
  {
   "cell_type": "code",
   "execution_count": 11,
   "id": "abbf1d1c",
   "metadata": {},
   "outputs": [
    {
     "name": "stdout",
     "output_type": "stream",
     "text": [
      "[55 37 65 50 56 39 54 52 62 57 44 61 53 43 64 63 59 51 47 60 46 45 48 66\n",
      " 42 49 38 58 41 40]\n"
     ]
    }
   ],
   "source": [
    "games[\"HOME_TEAM_ID\"] = games[\"HOME_TEAM_ID\"].apply(lambda x: x % 100)\n",
    "games[\"AWAY_TEAM_ID\"] = games[\"AWAY_TEAM_ID\"].apply(lambda x: x % 100)\n",
    "print(games[\"AWAY_TEAM_ID\"].unique())"
   ]
  },
  {
   "attachments": {},
   "cell_type": "markdown",
   "id": "decd9400",
   "metadata": {},
   "source": [
    "- Getting the probability of each team from the spread\n"
   ]
  },
  {
   "cell_type": "code",
   "execution_count": 12,
   "id": "f55732c4",
   "metadata": {},
   "outputs": [],
   "source": [
    "k = 0.1\n",
    "games[\"HOME_SPREAD_PROB\"] = 1 / (1 + np.exp(-k * games[\"HOME_SPREAD\"]))\n",
    "games[\"AWAY_SPREAD_PROB\"] = 1 / (1 + np.exp(-k * games[\"AWAY_SPREAD\"]))"
   ]
  },
  {
   "attachments": {},
   "cell_type": "markdown",
   "id": "a8acd864",
   "metadata": {},
   "source": [
    "- Creating columns won or lost spread\n"
   ]
  },
  {
   "cell_type": "code",
   "execution_count": 13,
   "id": "b11de5ab",
   "metadata": {},
   "outputs": [],
   "source": [
    "games[\"HOME_SPREAD_WL\"] = 0\n",
    "games.loc[\n",
    "    games[\"HOME_PTS\"] - games[\"AWAY_PTS\"] > games[\"HOME_SPREAD\"], \"HOME_SPREAD_WL\"\n",
    "] = 1\n",
    "\n",
    "# Crear columna AWAY_SPREAD_WL\n",
    "games[\"AWAY_SPREAD_WL\"] = 0\n",
    "games.loc[\n",
    "    games[\"AWAY_PTS\"] - games[\"HOME_PTS\"] > games[\"AWAY_SPREAD\"], \"AWAY_SPREAD_WL\"\n",
    "] = 1\n"
   ]
  },
  {
   "attachments": {},
   "cell_type": "markdown",
   "id": "35e52d10",
   "metadata": {},
   "source": [
    "- Moneyline to decimal\n"
   ]
  },
  {
   "cell_type": "code",
   "execution_count": 14,
   "id": "c3966353",
   "metadata": {},
   "outputs": [],
   "source": [
    "def moneyline_to_decimal(x):\n",
    "    if x > 0:\n",
    "        return (x / 100) + 1\n",
    "    elif x < 0:\n",
    "        return (100 / abs(x)) + 1\n",
    "    else:\n",
    "        return 1.0\n",
    "\n",
    "\n",
    "games[\"HOME_MONEYLINE_DECIMAL\"] = games[\"HOME_MONEYLINE\"].apply(moneyline_to_decimal)\n",
    "games[\"AWAY_MONEYLINE_DECIMAL\"] = games[\"AWAY_MONEYLINE\"].apply(moneyline_to_decimal)"
   ]
  },
  {
   "attachments": {},
   "cell_type": "markdown",
   "id": "c41f10f4",
   "metadata": {},
   "source": [
    "- Getting the level of fatigue from the rest days\n"
   ]
  },
  {
   "cell_type": "code",
   "execution_count": 15,
   "id": "911455b0",
   "metadata": {},
   "outputs": [],
   "source": [
    "def convert_rest_days_to_num(rest_days):\n",
    "    if rest_days == \"3+\" or rest_days.endswith(\"2\"):\n",
    "        return 0\n",
    "    elif rest_days == \"1\":\n",
    "        return 1 / 5\n",
    "    elif rest_days == \"3IN4\":\n",
    "        return 2 / 5\n",
    "    elif rest_days == \"B2B\":\n",
    "        return 3 / 5\n",
    "    elif rest_days == \"3IN4-B2B\":\n",
    "        return 4 / 5\n",
    "    elif rest_days == \"4IN5-B2B\":\n",
    "        return 5 / 5\n",
    "    else:\n",
    "        raise ValueError(f\"Unknown rest days: {rest_days}\")\n",
    "\n",
    "\n",
    "games[\"HOME_FATIGUE_LEVEL\"] = games[\"HOME_REST_DAYS\"].apply(convert_rest_days_to_num)\n",
    "games[\"AWAY_FATIGUE_LEVEL\"] = games[\"AWAY_REST_DAYS\"].apply(convert_rest_days_to_num)"
   ]
  },
  {
   "attachments": {},
   "cell_type": "markdown",
   "id": "ee046a43",
   "metadata": {},
   "source": [
    "- Getting the total points and whether it was over or under\n"
   ]
  },
  {
   "cell_type": "code",
   "execution_count": 16,
   "id": "9619f5db",
   "metadata": {},
   "outputs": [],
   "source": [
    "games[\"TOTAL_PTS\"] = games[\"HOME_PTS\"] + games[\"AWAY_PTS\"]\n",
    "\n",
    "\n",
    "def over_under_wl(row):\n",
    "    if row[\"TOTAL_PTS\"] >= row[\"OVER_UNDER\"]:\n",
    "        return 1\n",
    "    else:\n",
    "        return 0\n",
    "\n",
    "\n",
    "games[\"OVER_UNDER_WL\"] = games.apply(over_under_wl, axis=1)"
   ]
  },
  {
   "cell_type": "code",
   "execution_count": 17,
   "id": "f24e7db9",
   "metadata": {},
   "outputs": [],
   "source": [
    "games[\"HOME_WL\"] = games[\"HOME_WL\"].replace({\"W\": 1, \"L\": 0})"
   ]
  },
  {
   "attachments": {},
   "cell_type": "markdown",
   "id": "16359481",
   "metadata": {},
   "source": [
    "- Sorting and formatting\n"
   ]
  },
  {
   "cell_type": "code",
   "execution_count": 18,
   "id": "d579bc67",
   "metadata": {},
   "outputs": [],
   "source": [
    "columns_list = games.columns.tolist()\n",
    "# for column in columns_list:\n",
    "#     print(column)\n",
    "\n",
    "ordened_columns, type_columns = templates.columns_to_export()\n",
    "games = games.reindex(columns=ordened_columns).astype(type_columns)\n",
    "\n",
    "float_cols = games.select_dtypes(include=[\"float\"]).columns\n",
    "games[float_cols] = games[float_cols].round(2)"
   ]
  },
  {
   "attachments": {},
   "cell_type": "markdown",
   "id": "92b130db",
   "metadata": {},
   "source": [
    "### **Loading data to DB and save as CSV**\n"
   ]
  },
  {
   "cell_type": "code",
   "execution_count": 19,
   "id": "c4c5a90c",
   "metadata": {},
   "outputs": [
    {
     "data": {
      "text/html": [
       "<div>\n",
       "<style scoped>\n",
       "    .dataframe tbody tr th:only-of-type {\n",
       "        vertical-align: middle;\n",
       "    }\n",
       "\n",
       "    .dataframe tbody tr th {\n",
       "        vertical-align: top;\n",
       "    }\n",
       "\n",
       "    .dataframe thead th {\n",
       "        text-align: right;\n",
       "    }\n",
       "</style>\n",
       "<table border=\"1\" class=\"dataframe\">\n",
       "  <thead>\n",
       "    <tr style=\"text-align: right;\">\n",
       "      <th></th>\n",
       "      <th>SEASON</th>\n",
       "      <th>GAME_ID</th>\n",
       "      <th>GAME_DATE</th>\n",
       "      <th>HOME_TEAM_ID</th>\n",
       "      <th>AWAY_TEAM_ID</th>\n",
       "      <th>MATCHUP</th>\n",
       "      <th>HOME_SPREAD</th>\n",
       "      <th>AWAY_SPREAD</th>\n",
       "      <th>HOME_SPREAD_PROB</th>\n",
       "      <th>AWAY_SPREAD_PROB</th>\n",
       "      <th>...</th>\n",
       "      <th>AWAY_P5_AST</th>\n",
       "      <th>AWAY_P5_DREB</th>\n",
       "      <th>AWAY_P5_OREB</th>\n",
       "      <th>AWAY_P5_BLK</th>\n",
       "      <th>AWAY_P5_STL</th>\n",
       "      <th>AWAY_P5_TOV</th>\n",
       "      <th>AWAY_P5_FGA</th>\n",
       "      <th>AWAY_P5_FTA</th>\n",
       "      <th>AWAY_P5_FG3A</th>\n",
       "      <th>AWAY_P5_PF</th>\n",
       "    </tr>\n",
       "  </thead>\n",
       "  <tbody>\n",
       "    <tr>\n",
       "      <th>35</th>\n",
       "      <td>2012</td>\n",
       "      <td>0021200037</td>\n",
       "      <td>2012-11-04</td>\n",
       "      <td>52</td>\n",
       "      <td>55</td>\n",
       "      <td>NYK vs. PHI</td>\n",
       "      <td>-4.5</td>\n",
       "      <td>4.5</td>\n",
       "      <td>0.39</td>\n",
       "      <td>0.61</td>\n",
       "      <td>...</td>\n",
       "      <td>0</td>\n",
       "      <td>2</td>\n",
       "      <td>0</td>\n",
       "      <td>0</td>\n",
       "      <td>0</td>\n",
       "      <td>1</td>\n",
       "      <td>10</td>\n",
       "      <td>0</td>\n",
       "      <td>3</td>\n",
       "      <td>3</td>\n",
       "    </tr>\n",
       "    <tr>\n",
       "      <th>36</th>\n",
       "      <td>2012</td>\n",
       "      <td>0021200040</td>\n",
       "      <td>2012-11-04</td>\n",
       "      <td>60</td>\n",
       "      <td>37</td>\n",
       "      <td>OKC vs. ATL</td>\n",
       "      <td>-10.5</td>\n",
       "      <td>10.5</td>\n",
       "      <td>0.26</td>\n",
       "      <td>0.74</td>\n",
       "      <td>...</td>\n",
       "      <td>6</td>\n",
       "      <td>4</td>\n",
       "      <td>2</td>\n",
       "      <td>0</td>\n",
       "      <td>1</td>\n",
       "      <td>2</td>\n",
       "      <td>5</td>\n",
       "      <td>0</td>\n",
       "      <td>0</td>\n",
       "      <td>5</td>\n",
       "    </tr>\n",
       "    <tr>\n",
       "      <th>37</th>\n",
       "      <td>2012</td>\n",
       "      <td>0021200041</td>\n",
       "      <td>2012-11-04</td>\n",
       "      <td>47</td>\n",
       "      <td>65</td>\n",
       "      <td>LAL vs. DET</td>\n",
       "      <td>-8.5</td>\n",
       "      <td>8.5</td>\n",
       "      <td>0.30</td>\n",
       "      <td>0.70</td>\n",
       "      <td>...</td>\n",
       "      <td>3</td>\n",
       "      <td>1</td>\n",
       "      <td>0</td>\n",
       "      <td>0</td>\n",
       "      <td>0</td>\n",
       "      <td>0</td>\n",
       "      <td>6</td>\n",
       "      <td>0</td>\n",
       "      <td>1</td>\n",
       "      <td>2</td>\n",
       "    </tr>\n",
       "    <tr>\n",
       "      <th>38</th>\n",
       "      <td>2012</td>\n",
       "      <td>0021200038</td>\n",
       "      <td>2012-11-04</td>\n",
       "      <td>61</td>\n",
       "      <td>50</td>\n",
       "      <td>TOR vs. MIN</td>\n",
       "      <td>-3.5</td>\n",
       "      <td>3.5</td>\n",
       "      <td>0.41</td>\n",
       "      <td>0.59</td>\n",
       "      <td>...</td>\n",
       "      <td>4</td>\n",
       "      <td>2</td>\n",
       "      <td>2</td>\n",
       "      <td>0</td>\n",
       "      <td>1</td>\n",
       "      <td>3</td>\n",
       "      <td>6</td>\n",
       "      <td>4</td>\n",
       "      <td>4</td>\n",
       "      <td>1</td>\n",
       "    </tr>\n",
       "    <tr>\n",
       "      <th>39</th>\n",
       "      <td>2012</td>\n",
       "      <td>0021200039</td>\n",
       "      <td>2012-11-04</td>\n",
       "      <td>53</td>\n",
       "      <td>56</td>\n",
       "      <td>ORL vs. PHX</td>\n",
       "      <td>-1.5</td>\n",
       "      <td>-1.5</td>\n",
       "      <td>0.46</td>\n",
       "      <td>0.46</td>\n",
       "      <td>...</td>\n",
       "      <td>1</td>\n",
       "      <td>2</td>\n",
       "      <td>2</td>\n",
       "      <td>0</td>\n",
       "      <td>0</td>\n",
       "      <td>1</td>\n",
       "      <td>4</td>\n",
       "      <td>2</td>\n",
       "      <td>2</td>\n",
       "      <td>1</td>\n",
       "    </tr>\n",
       "  </tbody>\n",
       "</table>\n",
       "<p>5 rows × 243 columns</p>\n",
       "</div>"
      ],
      "text/plain": [
       "    SEASON     GAME_ID   GAME_DATE  HOME_TEAM_ID  AWAY_TEAM_ID      MATCHUP  \\\n",
       "35    2012  0021200037  2012-11-04            52            55  NYK vs. PHI   \n",
       "36    2012  0021200040  2012-11-04            60            37  OKC vs. ATL   \n",
       "37    2012  0021200041  2012-11-04            47            65  LAL vs. DET   \n",
       "38    2012  0021200038  2012-11-04            61            50  TOR vs. MIN   \n",
       "39    2012  0021200039  2012-11-04            53            56  ORL vs. PHX   \n",
       "\n",
       "    HOME_SPREAD  AWAY_SPREAD  HOME_SPREAD_PROB  AWAY_SPREAD_PROB  ...  \\\n",
       "35         -4.5          4.5              0.39              0.61  ...   \n",
       "36        -10.5         10.5              0.26              0.74  ...   \n",
       "37         -8.5          8.5              0.30              0.70  ...   \n",
       "38         -3.5          3.5              0.41              0.59  ...   \n",
       "39         -1.5         -1.5              0.46              0.46  ...   \n",
       "\n",
       "    AWAY_P5_AST  AWAY_P5_DREB  AWAY_P5_OREB  AWAY_P5_BLK  AWAY_P5_STL  \\\n",
       "35            0             2             0            0            0   \n",
       "36            6             4             2            0            1   \n",
       "37            3             1             0            0            0   \n",
       "38            4             2             2            0            1   \n",
       "39            1             2             2            0            0   \n",
       "\n",
       "   AWAY_P5_TOV AWAY_P5_FGA  AWAY_P5_FTA  AWAY_P5_FG3A  AWAY_P5_PF  \n",
       "35           1          10            0             3           3  \n",
       "36           2           5            0             0           5  \n",
       "37           0           6            0             1           2  \n",
       "38           3           6            4             4           1  \n",
       "39           1           4            2             2           1  \n",
       "\n",
       "[5 rows x 243 columns]"
      ]
     },
     "execution_count": 19,
     "metadata": {},
     "output_type": "execute_result"
    }
   ],
   "source": [
    "database.upload_model_stats(games)\n",
    "games.to_csv(\"../data/processed/NBA.csv\")\n",
    "games.head()"
   ]
  }
 ],
 "metadata": {
  "kernelspec": {
   "display_name": "base",
   "language": "python",
   "name": "python3"
  },
  "language_info": {
   "codemirror_mode": {
    "name": "ipython",
    "version": 3
   },
   "file_extension": ".py",
   "mimetype": "text/x-python",
   "name": "python",
   "nbconvert_exporter": "python",
   "pygments_lexer": "ipython3",
   "version": "3.10.9"
  },
  "vscode": {
   "interpreter": {
    "hash": "b8d892cf65759af0cb64eb5ea1aa9ab0f96e54b257dcd02666ad07491bb72211"
   }
  }
 },
 "nbformat": 4,
 "nbformat_minor": 5
}
